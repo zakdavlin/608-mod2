{
 "cells": [
  {
   "cell_type": "code",
   "execution_count": 1,
   "id": "24f29a58",
   "metadata": {},
   "outputs": [
    {
     "name": "stdout",
     "output_type": "stream",
     "text": [
      "1\n",
      "2\n",
      "The sum of 1 and 3\n"
     ]
    }
   ],
   "source": [
    "number1 = int(input())\n",
    "number2=int(input())\n",
    "total=number1+number2\n",
    "print('The sum of',number1, 'and',total)"
   ]
  },
  {
   "cell_type": "code",
   "execution_count": 4,
   "id": "04e00c97",
   "metadata": {},
   "outputs": [
    {
     "name": "stdout",
     "output_type": "stream",
     "text": [
      "5000050000\n"
     ]
    }
   ],
   "source": [
    "total=0\n",
    "\n",
    "for number in range(100001):\n",
    "    total=total+number\n",
    "    \n",
    "print(total)\n",
    "\n"
   ]
  },
  {
   "cell_type": "code",
   "execution_count": 5,
   "id": "220ce5fa",
   "metadata": {},
   "outputs": [
    {
     "name": "stdout",
     "output_type": "stream",
     "text": [
      "144\n"
     ]
    }
   ],
   "source": [
    "x=12\n",
    "x**=2\n",
    "print(x)\n"
   ]
  },
  {
   "cell_type": "code",
   "execution_count": 6,
   "id": "723d50ae",
   "metadata": {},
   "outputs": [
    {
     "name": "stdout",
     "output_type": "stream",
     "text": [
      "True False True False False\n"
     ]
    }
   ],
   "source": [
    "i=1\n",
    "j=2\n",
    "k=3\n",
    "m=2\n",
    "\n",
    "a=(i >= 1) and (j < 4)\n",
    "b=(m <= 99) and (k < m)\n",
    "c=(j >= i) or (k == m)\n",
    "d=(k + m < j) or (3 - j >= k)\n",
    "e=not (k > m)\n",
    "print(a,b,c,d,e)\n",
    "\n",
    "\n"
   ]
  },
  {
   "cell_type": "code",
   "execution_count": 7,
   "id": "e3eabfea",
   "metadata": {},
   "outputs": [],
   "source": [
    "import statistics"
   ]
  },
  {
   "cell_type": "code",
   "execution_count": 8,
   "id": "09fb6b9f",
   "metadata": {},
   "outputs": [
    {
     "name": "stdout",
     "output_type": "stream",
     "text": [
      "79.16666666666667\n",
      "86.0\n",
      "88\n"
     ]
    }
   ],
   "source": [
    "values=[47,95,88,73,88,84]\n",
    "\n",
    "print(statistics.mean(values))\n",
    "print(statistics.median(values))\n",
    "print(statistics.mode(values))\n"
   ]
  },
  {
   "cell_type": "code",
   "execution_count": 10,
   "id": "d3a07f60",
   "metadata": {},
   "outputs": [
    {
     "name": "stdout",
     "output_type": "stream",
     "text": [
      "17\n",
      "2985\n",
      "175.58823529411765\n",
      "65\n",
      "84\n"
     ]
    }
   ],
   "source": [
    "values=[21,23,45,84,74,84,54,95,84,512,21,32,65,954,814,12,11] #made up data set\n",
    "\n",
    "print(len(values))\n",
    "print(sum(values))\n",
    "print(statistics.mean(values))\n",
    "print(statistics.median(values))\n",
    "print(statistics.mode(values))\n"
   ]
  },
  {
   "cell_type": "code",
   "execution_count": null,
   "id": "7d9f2308",
   "metadata": {},
   "outputs": [],
   "source": []
  },
  {
   "cell_type": "code",
   "execution_count": null,
   "id": "4c8dfe68",
   "metadata": {},
   "outputs": [],
   "source": []
  }
 ],
 "metadata": {
  "kernelspec": {
   "display_name": "Python 3 (ipykernel)",
   "language": "python",
   "name": "python3"
  },
  "language_info": {
   "codemirror_mode": {
    "name": "ipython",
    "version": 3
   },
   "file_extension": ".py",
   "mimetype": "text/x-python",
   "name": "python",
   "nbconvert_exporter": "python",
   "pygments_lexer": "ipython3",
   "version": "3.9.12"
  }
 },
 "nbformat": 4,
 "nbformat_minor": 5
}
